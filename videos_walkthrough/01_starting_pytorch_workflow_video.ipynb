{
 "cells": [
  {
   "attachments": {},
   "cell_type": "markdown",
   "metadata": {},
   "source": [
    "| **Topic** | **Contents** |\n",
    "| ----- | ----- |\n",
    "| **1. Getting data ready** | Data can be almost anything but to get started we're going to create a simple straight line |\n",
    "| **2. Building a model** | Here we'll create a model to learn patterns in the data, we'll also choose a **loss function**, **optimizer** and build a **training loop**. | \n",
    "| **3. Fitting the model to data (training)** | We've got data and a model, now let's let the model (try to) find patterns in the (**training**) data. |\n",
    "| **4. Making predictions and evaluating a model (inference)** | Our model's found patterns in the data, let's compare its findings to the actual (**testing**) data. |\n",
    "| **5. Saving and loading a model** | You may want to use your model elsewhere, or come back to it later, here we'll cover that. |\n",
    "| **6. Putting it all together** | Let's take all of the above and combine it. |"
   ]
  },
  {
   "attachments": {},
   "cell_type": "markdown",
   "metadata": {},
   "source": [
    "![Alt text](../images/01_a_pytorch_workflow.png)"
   ]
  },
  {
   "cell_type": "code",
   "execution_count": 1,
   "metadata": {},
   "outputs": [],
   "source": [
    "import torch\n",
    "from torch import nn\n",
    "import matplotlib.pyplot as plt"
   ]
  },
  {
   "cell_type": "code",
   "execution_count": 2,
   "metadata": {
    "dotnet_interactive": {
     "language": "csharp"
    },
    "polyglot_notebook": {
     "kernelName": "csharp"
    }
   },
   "outputs": [
    {
     "data": {
      "text/plain": [
       "'2.0.0+cu117'"
      ]
     },
     "execution_count": 2,
     "metadata": {},
     "output_type": "execute_result"
    }
   ],
   "source": [
    "torch.__version__"
   ]
  },
  {
   "cell_type": "code",
   "execution_count": 3,
   "metadata": {},
   "outputs": [
    {
     "data": {
      "text/plain": [
       "(torch.Size([50]), torch.Size([50]))"
      ]
     },
     "execution_count": 3,
     "metadata": {},
     "output_type": "execute_result"
    }
   ],
   "source": [
    "# build some data using linear regression simple equation\n",
    "# y = weight * X + bias\n",
    "\n",
    "weight = 0.7\n",
    "bias = 0.3\n",
    "\n",
    "X = torch.arange(0,1,0.02)\n",
    "\n",
    "y = weight * X + bias\n",
    "\n",
    "\n",
    "X.shape , y.shape"
   ]
  },
  {
   "cell_type": "code",
   "execution_count": 4,
   "metadata": {
    "dotnet_interactive": {
     "language": "csharp"
    },
    "polyglot_notebook": {
     "kernelName": "csharp"
    }
   },
   "outputs": [
    {
     "data": {
      "text/plain": [
       "(tensor([0.0000, 0.0200, 0.0400, 0.0600, 0.0800]),\n",
       " tensor([0.3000, 0.3140, 0.3280, 0.3420, 0.3560]))"
      ]
     },
     "execution_count": 4,
     "metadata": {},
     "output_type": "execute_result"
    }
   ],
   "source": [
    "X[:5] , y[:5]"
   ]
  },
  {
   "cell_type": "code",
   "execution_count": 5,
   "metadata": {
    "dotnet_interactive": {
     "language": "csharp"
    },
    "polyglot_notebook": {
     "kernelName": "csharp"
    }
   },
   "outputs": [
    {
     "data": {
      "text/plain": [
       "(40, 10, 40, 10)"
      ]
     },
     "execution_count": 5,
     "metadata": {},
     "output_type": "execute_result"
    }
   ],
   "source": [
    "# split the data into training and testing [80 % training] [ 20 % testing]\n",
    "train_split = int(0.8*len(X))\n",
    "\n",
    "X_train , X_test = X[:train_split] , X[train_split:]\n",
    "y_train , y_test = y[:train_split] , y[train_split:]\n",
    "\n",
    "len(X_train) , len(X_test) , len(y_train) , len(y_test)"
   ]
  },
  {
   "cell_type": "code",
   "execution_count": 6,
   "metadata": {
    "dotnet_interactive": {
     "language": "csharp"
    },
    "polyglot_notebook": {
     "kernelName": "csharp"
    }
   },
   "outputs": [],
   "source": [
    "def plot_predictions(train_data=X_train,\n",
    "                    train_labels=y_train,\n",
    "                    test_data=X_test,\n",
    "                    test_labels=y_test,\n",
    "                    predictions=None):\n",
    "    '''\n",
    "    Plot predictions is a function to plot data and if you have a prediction you can compare it to the original data \n",
    "    '''\n",
    "    plt.figure(figsize=(10,7))\n",
    "    #plot the training data\n",
    "    plt.scatter(train_data, train_labels,c='b',s=4,label='Training data')\n",
    "    #plot the testing data\n",
    "    plt.scatter(test_data,test_labels,c='g',s=4,label='Testing data')\n",
    "\n",
    "    # if i have a prediction\n",
    "    if predictions is not None:\n",
    "        plt.scatter(test_data,predictions,c='r',s=4,label='Predictions')\n",
    "\n",
    "    # show the legend \n",
    "    plt.legend(prop={\"size\":14})"
   ]
  },
  {
   "cell_type": "code",
   "execution_count": 7,
   "metadata": {
    "dotnet_interactive": {
     "language": "csharp"
    },
    "polyglot_notebook": {
     "kernelName": "csharp"
    }
   },
   "outputs": [
    {
     "data": {
      "image/png": "[encoded data removed]",
      "text/plain": [
       "<Figure size 1000x700 with 1 Axes>"
      ]
     },
     "metadata": {},
     "output_type": "display_data"
    }
   ],
   "source": [
    "plot_predictions()"
   ]
  },
  {
   "attachments": {},
   "cell_type": "markdown",
   "metadata": {},
   "source": [
    "# lets build the model"
   ]
  },
  {
   "cell_type": "code",
   "execution_count": 8,
   "metadata": {
    "dotnet_interactive": {
     "language": "csharp"
    },
    "polyglot_notebook": {
     "kernelName": "csharp"
    }
   },
   "outputs": [],
   "source": [
    "# create a linear regression model\n",
    "class LinearRegressionModel(nn.Module):\n",
    "    def __init__(self):\n",
    "        super(LinearRegressionModel,self).__init__()\n",
    "        self.weights = nn.Parameter(torch.randn(1,dtype=torch.float), # torch.randn is giving us a random value that we will updates through training to reach the optimal answer\n",
    "                                    requires_grad=True)\n",
    "        self.bias = nn.Parameter(torch.randn(1,dtype=torch.float), # dtype means datatype is the deafult pytorch data type which is float 32\n",
    "                                requires_grad=True) # requires grad means that the parameter will be updates using gradient descent\n",
    "    def forward(self,x: torch.Tensor) -> torch.Tensor:\n",
    "        # y = weight * x + bias\n",
    "        return self.weights * x + self.bias"
   ]
  },
  {
   "cell_type": "code",
   "execution_count": 9,
   "metadata": {},
   "outputs": [],
   "source": [
    "# check the content of this model\n",
    "torch.manual_seed(42)\n",
    "# create an instance of the model\n",
    "model_0 = LinearRegressionModel()"
   ]
  },
  {
   "cell_type": "code",
   "execution_count": 10,
   "metadata": {},
   "outputs": [
    {
     "data": {
      "text/plain": [
       "[Parameter containing:\n",
       " tensor([0.3367], requires_grad=True),\n",
       " Parameter containing:\n",
       " tensor([0.1288], requires_grad=True)]"
      ]
     },
     "execution_count": 10,
     "metadata": {},
     "output_type": "execute_result"
    }
   ],
   "source": [
    "list(model_0.parameters())"
   ]
  },
  {
   "cell_type": "code",
   "execution_count": 11,
   "metadata": {},
   "outputs": [
    {
     "data": {
      "text/plain": [
       "OrderedDict([('weights', tensor([0.3367])), ('bias', tensor([0.1288]))])"
      ]
     },
     "execution_count": 11,
     "metadata": {},
     "output_type": "execute_result"
    }
   ],
   "source": [
    "model_0.state_dict()"
   ]
  },
  {
   "attachments": {},
   "cell_type": "markdown",
   "metadata": {},
   "source": [
    "### what if we want to plot the output of the model before training on x_test data -> y = weight (0.3367) * x (X_test) + bias (0.1288)"
   ]
  },
  {
   "cell_type": "code",
   "execution_count": 12,
   "metadata": {},
   "outputs": [],
   "source": [
    "# how to make a prediction using this model\n",
    "with torch.inference_mode():\n",
    "    y_preds = model_0(X_test)"
   ]
  },
  {
   "cell_type": "code",
   "execution_count": 13,
   "metadata": {},
   "outputs": [
    {
     "name": "stdout",
     "output_type": "stream",
     "text": [
      "10\n",
      "10\n"
     ]
    }
   ],
   "source": [
    "print(len(y_preds))\n",
    "print(len(X_test))"
   ]
  },
  {
   "cell_type": "code",
   "execution_count": 14,
   "metadata": {},
   "outputs": [
    {
     "name": "stdout",
     "output_type": "stream",
     "text": [
      "tensor([0.3982, 0.4049, 0.4116, 0.4184, 0.4251, 0.4318, 0.4386, 0.4453, 0.4520,\n",
      "        0.4588])\n"
     ]
    }
   ],
   "source": [
    "print(y_preds)"
   ]
  },
  {
   "cell_type": "code",
   "execution_count": 15,
   "metadata": {},
   "outputs": [
    {
     "data": {
      "image/png": "[encoded data removed]",
      "text/plain": [
       "<Figure size 1000x700 with 1 Axes>"
      ]
     },
     "metadata": {},
     "output_type": "display_data"
    }
   ],
   "source": [
    "plot_predictions(predictions=y_preds)"
   ]
  },
  {
   "attachments": {},
   "cell_type": "markdown",
   "metadata": {},
   "source": [
    "# how to train a model ?"
   ]
  },
  {
   "attachments": {},
   "cell_type": "markdown",
   "metadata": {},
   "source": [
    "1. Right now our model is making predictions using random parameters values \n",
    "2. what we want to do is to update the model parameters to reach the optimal parameters"
   ]
  },
  {
   "attachments": {},
   "cell_type": "markdown",
   "metadata": {},
   "source": [
    "## Creating a loss function and an optimizer\n",
    "\n",
    "1. loss function : Measures how wrong your models predictions are\n",
    "2. optimizer : Guides your model to updates the parameters to lower the loss function (learning rate)"
   ]
  },
  {
   "attachments": {},
   "cell_type": "markdown",
   "metadata": {},
   "source": [
    "![Alt text](../images/loss.png)"
   ]
  },
  {
   "cell_type": "code",
   "execution_count": 16,
   "metadata": {},
   "outputs": [],
   "source": [
    "# loss function \n",
    "loss_fn = nn.L1Loss() # MAE loss function for our model"
   ]
  },
  {
   "cell_type": "code",
   "execution_count": 17,
   "metadata": {},
   "outputs": [],
   "source": [
    "# lets create an optimizer\n",
    "optimizer = torch.optim.SGD(params=model_0.parameters(),lr=0.01)"
   ]
  },
  {
   "attachments": {},
   "cell_type": "markdown",
   "metadata": {},
   "source": [
    "# PyTorch training loop and Testing loop\n",
    "\n",
    "For the training loop, we'll build the following steps:\n",
    "\n",
    "1. Forward pass\n",
    "2. Calculate the loss\n",
    "3. \tZero gradients\n",
    "4. Perform backpropagation on the loss\n",
    "5. Update the optimizer (gradient descent)"
   ]
  },
  {
   "cell_type": "code",
   "execution_count": 18,
   "metadata": {},
   "outputs": [
    {
     "name": "stdout",
     "output_type": "stream",
     "text": [
      "Epoch : 0 | MAE Train loss : 0.31288138031959534 | MAE Testing loss : 0.48106518387794495\n",
      "Epoch : 10 | MAE Train loss : 0.1976713240146637 | MAE Testing loss : 0.3463551998138428\n",
      "Epoch : 20 | MAE Train loss : 0.08908725529909134 | MAE Testing loss : 0.21729660034179688\n",
      "Epoch : 30 | MAE Train loss : 0.053148526698350906 | MAE Testing loss : 0.14464017748832703\n",
      "Epoch : 40 | MAE Train loss : 0.04543796554207802 | MAE Testing loss : 0.11360953003168106\n",
      "Epoch : 50 | MAE Train loss : 0.04167863354086876 | MAE Testing loss : 0.09919948130846024\n",
      "Epoch : 60 | MAE Train loss : 0.03818932920694351 | MAE Testing loss : 0.08886633068323135\n",
      "Epoch : 70 | MAE Train loss : 0.03476089984178543 | MAE Testing loss : 0.0805937647819519\n",
      "Epoch : 80 | MAE Train loss : 0.03132382780313492 | MAE Testing loss : 0.07232122868299484\n",
      "Epoch : 90 | MAE Train loss : 0.02788739837706089 | MAE Testing loss : 0.06473556160926819\n"
     ]
    }
   ],
   "source": [
    "torch.manual_seed(42)\n",
    "\n",
    "epochs = 100\n",
    "\n",
    "#create some lists to track results\n",
    "\n",
    "train_loss_values = []\n",
    "test_loss_values = []\n",
    "epoch_count = []\n",
    "\n",
    "for epoch in range(epochs):\n",
    "    # training\n",
    "    model_0.train()\n",
    "\n",
    "        \n",
    "    # 1. Forward pass\n",
    "\n",
    "    y_pred = model_0(X_train) # -> (y_pred , y_train)\n",
    "\n",
    "    # 2. Calculate the loss\n",
    "    loss = loss_fn(y_pred,y_train)\n",
    "\n",
    "    # 3. \tZero gradients\n",
    "    optimizer.zero_grad()\n",
    "\n",
    "    # 4. Perform backpropagation on the loss\n",
    "    loss.backward()\n",
    "\n",
    "    # 5. Update the optimizer (gradient descent)\n",
    "    optimizer.step()\n",
    "\n",
    "\n",
    "\n",
    "    # Testing\n",
    "\n",
    "    # put the model in the evaluation mode\n",
    "    model_0.eval()\n",
    "\n",
    "    with torch.inference_mode():\n",
    "        test_pred = model_0(X_test)\n",
    "\n",
    "        # 2. calculate the test loss\n",
    "        test_loss = loss_fn(test_pred,y_test)\n",
    "\n",
    "    # print what's going on\n",
    "    if epoch % 10 == 0:\n",
    "        epoch_count.append(epoch)\n",
    "        train_loss_values.append(loss.detach().numpy())\n",
    "        test_loss_values.append(test_loss.detach().numpy())\n",
    "        print(f\"Epoch : {epoch} | MAE Train loss : {loss} | MAE Testing loss : {test_loss}\")"
   ]
  },
  {
   "cell_type": "code",
   "execution_count": 19,
   "metadata": {},
   "outputs": [
    {
     "data": {
      "text/plain": [
       "<matplotlib.legend.Legend at 0x2920898f940>"
      ]
     },
     "execution_count": 19,
     "metadata": {},
     "output_type": "execute_result"
    },
    {
     "data": {
      "image/png": "[encoded data removed]",
      "text/plain": [
       "<Figure size 640x480 with 1 Axes>"
      ]
     },
     "metadata": {},
     "output_type": "display_data"
    }
   ],
   "source": [
    "# plot the loss curves\n",
    "plt.plot(epoch_count,train_loss_values,label=\"Train loss\")\n",
    "plt.plot(epoch_count,test_loss_values,label=\"Test loss\")\n",
    "plt.title(\"Training and testing loss curves\")\n",
    "plt.xlabel(\"Epochs\")\n",
    "plt.ylabel(\"loss\")\n",
    "plt.legend()"
   ]
  },
  {
   "cell_type": "code",
   "execution_count": 20,
   "metadata": {},
   "outputs": [
    {
     "data": {
      "text/plain": [
       "OrderedDict([('weights', tensor([0.5784])), ('bias', tensor([0.3513]))])"
      ]
     },
     "execution_count": 20,
     "metadata": {},
     "output_type": "execute_result"
    }
   ],
   "source": [
    "# new weight | new bias  \n",
    "# -> old values before training ('weights', tensor([0.3367])), ('bias', tensor([0.1288])\n",
    "model_0.state_dict()"
   ]
  },
  {
   "attachments": {},
   "cell_type": "markdown",
   "metadata": {},
   "source": [
    "# we are going to make predictions which is called [inference]\n",
    "\n",
    "1. putting the model to eval mode -> evaluation mode\n",
    "2. with torch.inference_mode()\n",
    "3. make sure you model and your data are on the same device (GPU - CPU)  "
   ]
  },
  {
   "cell_type": "code",
   "execution_count": 21,
   "metadata": {},
   "outputs": [],
   "source": [
    "model_0.eval()\n",
    "\n",
    "with torch.inference_mode():\n",
    "    y_pred_train = model_0(X_test)"
   ]
  },
  {
   "cell_type": "code",
   "execution_count": 22,
   "metadata": {},
   "outputs": [
    {
     "data": {
      "text/plain": [
       "(tensor([0.8141, 0.8256, 0.8372, 0.8488, 0.8603, 0.8719, 0.8835, 0.8950, 0.9066,\n",
       "         0.9182]),\n",
       " torch.Size([10]))"
      ]
     },
     "execution_count": 22,
     "metadata": {},
     "output_type": "execute_result"
    }
   ],
   "source": [
    "y_pred_train , y_pred_train.shape"
   ]
  },
  {
   "cell_type": "code",
   "execution_count": 23,
   "metadata": {},
   "outputs": [
    {
     "data": {
      "image/png": "[encoded data removed]",
      "text/plain": [
       "<Figure size 1000x700 with 1 Axes>"
      ]
     },
     "metadata": {},
     "output_type": "display_data"
    }
   ],
   "source": [
    "plot_predictions(predictions=y_pred_train)"
   ]
  },
  {
   "attachments": {},
   "cell_type": "markdown",
   "metadata": {},
   "source": [
    "# how to save and load a pytorch model ?\n",
    "\n",
    "1. torch.save\n",
    "2. torch.load\n"
   ]
  },
  {
   "cell_type": "code",
   "execution_count": 24,
   "metadata": {},
   "outputs": [],
   "source": [
    "# pytorch model extensions -> pt / pth\n",
    "torch.save(model_0,'./model-0.pt')   "
   ]
  },
  {
   "cell_type": "code",
   "execution_count": 25,
   "metadata": {},
   "outputs": [],
   "source": [
    "torch.save(model_0,'./model-1.pth')"
   ]
  },
  {
   "cell_type": "code",
   "execution_count": 26,
   "metadata": {},
   "outputs": [],
   "source": [
    "from pathlib import Path\n",
    "\n",
    "# create a directory \n",
    "MODEL_PATH = Path('models')\n",
    "\n",
    "MODEL_PATH.mkdir(parents=True,exist_ok=True)\n",
    "\n",
    "# create model save path\n",
    "MODEL_NAME = '01-workflow-model.pth'\n",
    "MODEL_SAVE_PATH = MODEL_PATH / MODEL_NAME\n",
    "\n",
    "torch.save(model_0.state_dict(),MODEL_SAVE_PATH)"
   ]
  },
  {
   "attachments": {},
   "cell_type": "markdown",
   "metadata": {},
   "source": [
    "# Loading models"
   ]
  },
  {
   "cell_type": "code",
   "execution_count": 27,
   "metadata": {},
   "outputs": [
    {
     "data": {
      "text/plain": [
       "OrderedDict([('weights', tensor([-0.2138])), ('bias', tensor([-1.3780]))])"
      ]
     },
     "execution_count": 27,
     "metadata": {},
     "output_type": "execute_result"
    }
   ],
   "source": [
    "# torch.nn.Module.load_state_dict\n",
    "\n",
    "# instance of our model\n",
    "torch.manual_seed(12)\n",
    "\n",
    "model_1 = LinearRegressionModel()\n",
    "model_1.state_dict()"
   ]
  },
  {
   "cell_type": "code",
   "execution_count": 28,
   "metadata": {},
   "outputs": [
    {
     "data": {
      "text/plain": [
       "<All keys matched successfully>"
      ]
     },
     "execution_count": 28,
     "metadata": {},
     "output_type": "execute_result"
    }
   ],
   "source": [
    "model_1.load_state_dict(torch.load(MODEL_SAVE_PATH))"
   ]
  },
  {
   "cell_type": "code",
   "execution_count": 29,
   "metadata": {},
   "outputs": [
    {
     "data": {
      "text/plain": [
       "OrderedDict([('weights', tensor([0.5784])), ('bias', tensor([0.3513]))])"
      ]
     },
     "execution_count": 29,
     "metadata": {},
     "output_type": "execute_result"
    }
   ],
   "source": [
    "model_1.state_dict()"
   ]
  },
  {
   "cell_type": "code",
   "execution_count": 30,
   "metadata": {},
   "outputs": [],
   "source": [
    "model_1.eval()\n",
    "with torch.inference_mode():\n",
    "    y_pred_2 = model_1(X_test) "
   ]
  },
  {
   "cell_type": "code",
   "execution_count": 31,
   "metadata": {},
   "outputs": [
    {
     "data": {
      "text/plain": [
       "tensor([True, True, True, True, True, True, True, True, True, True])"
      ]
     },
     "execution_count": 31,
     "metadata": {},
     "output_type": "execute_result"
    }
   ],
   "source": [
    "y_pred_train == y_pred_2"
   ]
  },
  {
   "attachments": {},
   "cell_type": "markdown",
   "metadata": {},
   "source": [
    "# lets level up our game a bit\n",
    "1. fully connected network\n",
    "\n",
    "    ![Alt text](../images/Capture.JPG)"
   ]
  },
  {
   "attachments": {},
   "cell_type": "markdown",
   "metadata": {},
   "source": [
    "### What do i want to do ?\n",
    "now i have some data and i want to make a model that predicts this data"
   ]
  },
  {
   "cell_type": "code",
   "execution_count": 32,
   "metadata": {},
   "outputs": [],
   "source": [
    "import torch\n",
    "import numpy as np\n",
    "import seaborn as sns\n",
    "from torch import nn\n",
    "\n",
    "torch.manual_seed(42)\n",
    "\n",
    "X = np.linspace(0,20,num=200)\n",
    "y = X + np.sin(X)*2 + np.random.normal(size=X.shape)"
   ]
  },
  {
   "cell_type": "code",
   "execution_count": 33,
   "metadata": {},
   "outputs": [
    {
     "data": {
      "text/plain": [
       "((200,), (200,))"
      ]
     },
     "execution_count": 33,
     "metadata": {},
     "output_type": "execute_result"
    }
   ],
   "source": [
    "X.shape , y.shape "
   ]
  },
  {
   "cell_type": "code",
   "execution_count": 34,
   "metadata": {},
   "outputs": [
    {
     "data": {
      "text/plain": [
       "(0.0, 0.5592078627619969)"
      ]
     },
     "execution_count": 34,
     "metadata": {},
     "output_type": "execute_result"
    }
   ],
   "source": [
    "X[0] , y[0]"
   ]
  },
  {
   "cell_type": "code",
   "execution_count": 35,
   "metadata": {},
   "outputs": [
    {
     "data": {
      "text/plain": [
       "<Axes: >"
      ]
     },
     "execution_count": 35,
     "metadata": {},
     "output_type": "execute_result"
    },
    {
     "data": {
      "image/png": "[encoded data removed]",
      "text/plain": [
       "<Figure size 640x480 with 1 Axes>"
      ]
     },
     "metadata": {},
     "output_type": "display_data"
    }
   ],
   "source": [
    "sns.scatterplot(x=X,y=y,color='Blue', label='Data')"
   ]
  },
  {
   "cell_type": "code",
   "execution_count": 36,
   "metadata": {},
   "outputs": [],
   "source": [
    "from torch.utils.data import Dataset , DataLoader\n",
    "\n",
    "class Simple1DRegressionDataset(Dataset):\n",
    "    def __init__(self,X,y):\n",
    "        super(Simple1DRegressionDataset,self).__init__()\n",
    "        self.X = X.reshape(-1,1)\n",
    "        self.y = y.reshape(-1,1)  \n",
    "\n",
    "    def __getitem__(self,index):\n",
    "        return torch.tensor(self.X[index,:],dtype=torch.float32) , torch.tensor(self.y[index,:],dtype=torch.float32)\n",
    "    \n",
    "    def __len__(self):\n",
    "        return self.X.shape[0]"
   ]
  },
  {
   "cell_type": "code",
   "execution_count": 37,
   "metadata": {},
   "outputs": [],
   "source": [
    "df = Simple1DRegressionDataset(X,y)"
   ]
  },
  {
   "cell_type": "code",
   "execution_count": 38,
   "metadata": {},
   "outputs": [
    {
     "data": {
      "text/plain": [
       "(tensor([0.]), tensor([0.5592]))"
      ]
     },
     "execution_count": 38,
     "metadata": {},
     "output_type": "execute_result"
    }
   ],
   "source": [
    "df[0]"
   ]
  },
  {
   "cell_type": "code",
   "execution_count": 39,
   "metadata": {},
   "outputs": [],
   "source": [
    "# lets make a dataloader for the dataset\n",
    "training_loader = DataLoader(Simple1DRegressionDataset(X,y),shuffle=True)"
   ]
  },
  {
   "cell_type": "code",
   "execution_count": 40,
   "metadata": {},
   "outputs": [
    {
     "data": {
      "text/plain": [
       "[tensor([[8.8442]]), tensor([[10.0562]])]"
      ]
     },
     "execution_count": 40,
     "metadata": {},
     "output_type": "execute_result"
    }
   ],
   "source": [
    "data_point = next(iter(training_loader))\n",
    "data_point"
   ]
  },
  {
   "cell_type": "code",
   "execution_count": 41,
   "metadata": {},
   "outputs": [],
   "source": [
    "# construct the model using Linear block\n",
    "in_features = 1\n",
    "out_features = 1\n",
    "model_2 = nn.Linear(in_features,out_features)"
   ]
  },
  {
   "cell_type": "code",
   "execution_count": 42,
   "metadata": {},
   "outputs": [],
   "source": [
    "# loss function \n",
    "loss_fn = nn.MSELoss()"
   ]
  },
  {
   "cell_type": "code",
   "execution_count": 43,
   "metadata": {},
   "outputs": [],
   "source": [
    "# optimizer\n",
    "optimizer = torch.optim.SGD(params=model_2.parameters(),lr=0.001)"
   ]
  },
  {
   "cell_type": "code",
   "execution_count": 44,
   "metadata": {},
   "outputs": [
    {
     "name": "stderr",
     "output_type": "stream",
     "text": [
      "C:\\Users\\Amr osama abdellatif\\AppData\\Local\\Temp\\ipykernel_27368\\1530387542.py:2: TqdmWarning: IProgress not found. Please update jupyter and ipywidgets. See https://ipywidgets.readthedocs.io/en/stable/user_install.html\n",
      "  from tqdm.autonotebook import tqdm\n"
     ]
    }
   ],
   "source": [
    "# so we need now a training loop\n",
    "from tqdm.autonotebook import tqdm\n",
    "\n",
    "def train_simple_network(model,\n",
    "                        loss_fn,\n",
    "                        training_loader,\n",
    "                        epochs=5,\n",
    "                        device='cpu',\n",
    "                        optimizer=optimizer):\n",
    "    \n",
    "    optimizer = torch.optim.SGD(params=model.parameters(),lr=0.001)\n",
    "\n",
    "    model.to(device)\n",
    "\n",
    "    for epoch in tqdm(range(epochs), desc=\"Epochs\"):\n",
    "        \n",
    "        model = model.train()\n",
    "\n",
    "        running_loss = 0\n",
    "\n",
    "        for inputs , labels in tqdm(training_loader,desc='Batches'):\n",
    "            \n",
    "            inputs = inputs.to(device)\n",
    "            labels = labels.to(device)\n",
    "\n",
    "            optimizer.zero_grad()\n",
    "\n",
    "            y_pred = model(inputs)\n",
    "\n",
    "            loss = loss_fn(y_pred, labels)\n",
    "\n",
    "            loss.backward()\n",
    "\n",
    "            optimizer.step()\n",
    "\n",
    "            running_loss += loss.item()\n",
    "\n",
    "    "
   ]
  },
  {
   "cell_type": "code",
   "execution_count": 45,
   "metadata": {},
   "outputs": [
    {
     "data": {
      "text/plain": [
       "'cuda'"
      ]
     },
     "execution_count": 45,
     "metadata": {},
     "output_type": "execute_result"
    }
   ],
   "source": [
    "device = 'cuda' if torch.cuda.is_available() else 'cpu'\n",
    "device"
   ]
  },
  {
   "cell_type": "code",
   "execution_count": 46,
   "metadata": {},
   "outputs": [
    {
     "name": "stderr",
     "output_type": "stream",
     "text": [
      "Batches: 100%|██████████| 200/200 [00:02<00:00, 71.49it/s] \n",
      "Batches: 100%|██████████| 200/200 [00:00<00:00, 904.43it/s]\n",
      "Batches: 100%|██████████| 200/200 [00:00<00:00, 1498.25it/s]\n",
      "Batches: 100%|██████████| 200/200 [00:00<00:00, 1052.17it/s]\n",
      "Batches: 100%|██████████| 200/200 [00:00<00:00, 914.38it/s]\n",
      "Batches: 100%|██████████| 200/200 [00:00<00:00, 888.47it/s]\n",
      "Batches: 100%|██████████| 200/200 [00:00<00:00, 915.19it/s]\n",
      "Batches: 100%|██████████| 200/200 [00:00<00:00, 963.85it/s]\n",
      "Batches: 100%|██████████| 200/200 [00:00<00:00, 1576.29it/s]\n",
      "Batches: 100%|██████████| 200/200 [00:00<00:00, 1565.95it/s]\n",
      "Epochs: 100%|██████████| 10/10 [00:04<00:00,  2.22it/s]\n"
     ]
    }
   ],
   "source": [
    "train_simple_network(model_2,\n",
    "                loss_fn,\n",
    "                training_loader,\n",
    "                device=device,\n",
    "                epochs=10\n",
    "                )"
   ]
  },
  {
   "cell_type": "code",
   "execution_count": 47,
   "metadata": {},
   "outputs": [
    {
     "data": {
      "text/plain": [
       "(200,)"
      ]
     },
     "execution_count": 47,
     "metadata": {},
     "output_type": "execute_result"
    }
   ],
   "source": [
    "X.shape"
   ]
  },
  {
   "cell_type": "code",
   "execution_count": 48,
   "metadata": {},
   "outputs": [],
   "source": [
    "# lets try our model \n",
    "model_2.to('cpu')\n",
    "\n",
    "model_2.eval()\n",
    "\n",
    "with torch.inference_mode():\n",
    "    y_pred_m2 = model_2(torch.tensor(X,dtype=torch.float32).reshape(-1,1)).cpu().numpy()\n",
    "\n",
    "    "
   ]
  },
  {
   "cell_type": "code",
   "execution_count": 49,
   "metadata": {},
   "outputs": [
    {
     "data": {
      "text/plain": [
       "(200, 1)"
      ]
     },
     "execution_count": 49,
     "metadata": {},
     "output_type": "execute_result"
    }
   ],
   "source": [
    "y_pred_m2.shape"
   ]
  },
  {
   "attachments": {},
   "cell_type": "markdown",
   "metadata": {},
   "source": [
    "# ravel function for numpy arrays is like reshape for tensors"
   ]
  },
  {
   "cell_type": "code",
   "execution_count": 50,
   "metadata": {},
   "outputs": [
    {
     "data": {
      "text/plain": [
       "<Axes: >"
      ]
     },
     "execution_count": 50,
     "metadata": {},
     "output_type": "execute_result"
    },
    {
     "data": {
      "image/png": "[encoded data removed]",
      "text/plain": [
       "<Figure size 640x480 with 1 Axes>"
      ]
     },
     "metadata": {},
     "output_type": "display_data"
    }
   ],
   "source": [
    "sns.scatterplot(x=X,y=y , color='blue',label='Data')\n",
    "sns.lineplot(x=X,y=y_pred_m2.ravel(),color='red',label='Linear model')"
   ]
  },
  {
   "cell_type": "code",
   "execution_count": 55,
   "metadata": {},
   "outputs": [],
   "source": [
    "# nn.Linear() , nn.Linear()\n",
    "# in_feature = 1 , out_features = 1\n",
    "\n",
    "# nn.Linear(1, 5 , 1)\n",
    "\n",
    "model_3 = nn.Sequential(\n",
    "    nn.Linear(1,5),\n",
    "    nn.Linear(5,1),\n",
    ") "
   ]
  },
  {
   "cell_type": "code",
   "execution_count": 56,
   "metadata": {},
   "outputs": [
    {
     "name": "stderr",
     "output_type": "stream",
     "text": [
      "Batches: 100%|██████████| 200/200 [00:00<00:00, 1299.54it/s]\n",
      "Batches: 100%|██████████| 200/200 [00:00<00:00, 1640.85it/s]\n",
      "Batches: 100%|██████████| 200/200 [00:00<00:00, 1759.14it/s]\n",
      "Batches: 100%|██████████| 200/200 [00:00<00:00, 1440.59it/s]\n",
      "Batches: 100%|██████████| 200/200 [00:00<00:00, 2203.48it/s]\n",
      "Epochs: 100%|██████████| 5/5 [00:00<00:00,  7.68it/s]\n"
     ]
    }
   ],
   "source": [
    "train_simple_network(model_3,loss_fn,training_loader)"
   ]
  },
  {
   "cell_type": "code",
   "execution_count": 57,
   "metadata": {},
   "outputs": [],
   "source": [
    "model_3.to('cpu')\n",
    "model_3.eval()\n",
    "with torch.inference_mode():\n",
    "    y_pred_m3 = model_3(torch.tensor(X,dtype=torch.float32).reshape(-1,1)).cpu().numpy()"
   ]
  },
  {
   "cell_type": "code",
   "execution_count": 59,
   "metadata": {},
   "outputs": [
    {
     "data": {
      "text/plain": [
       "<Axes: >"
      ]
     },
     "execution_count": 59,
     "metadata": {},
     "output_type": "execute_result"
    },
    {
     "data": {
      "image/png": "[encoded data removed]",
      "text/plain": [
       "<Figure size 640x480 with 1 Axes>"
      ]
     },
     "metadata": {},
     "output_type": "display_data"
    }
   ],
   "source": [
    "sns.scatterplot(x=X,y=y,color=\"blue\",label=\"Data\")\n",
    "sns.lineplot(x=X,y=y_pred_m2.ravel(),color=\"red\",label=\"stacked linear layers\")"
   ]
  },
  {
   "cell_type": "code",
   "execution_count": 60,
   "metadata": {},
   "outputs": [],
   "source": [
    "model_4 = nn.Sequential(\n",
    "    nn.Linear(1,10),\n",
    "    nn.Tanh(),\n",
    "    nn.Linear(10,1)\n",
    ")"
   ]
  },
  {
   "cell_type": "code",
   "execution_count": 65,
   "metadata": {},
   "outputs": [
    {
     "name": "stderr",
     "output_type": "stream",
     "text": [
      "Batches: 100%|██████████| 200/200 [00:00<00:00, 1835.99it/s]\n",
      "Batches: 100%|██████████| 200/200 [00:00<00:00, 1697.10it/s]\n",
      "Batches: 100%|██████████| 200/200 [00:00<00:00, 1815.76it/s]\n",
      "Batches: 100%|██████████| 200/200 [00:00<00:00, 2346.23it/s]\n",
      "Batches: 100%|██████████| 200/200 [00:00<00:00, 2433.19it/s]\n",
      "Batches: 100%|██████████| 200/200 [00:00<00:00, 1938.00it/s]\n",
      "Batches: 100%|██████████| 200/200 [00:00<00:00, 2011.07it/s]\n",
      "Batches: 100%|██████████| 200/200 [00:00<00:00, 2037.28it/s]\n",
      "Batches: 100%|██████████| 200/200 [00:00<00:00, 1867.60it/s]\n",
      "Batches: 100%|██████████| 200/200 [00:00<00:00, 2144.64it/s]\n",
      "Batches: 100%|██████████| 200/200 [00:00<00:00, 1834.52it/s]\n",
      "Batches: 100%|██████████| 200/200 [00:00<00:00, 1258.11it/s]\n",
      "Batches: 100%|██████████| 200/200 [00:00<00:00, 1597.92it/s]\n",
      "Batches: 100%|██████████| 200/200 [00:00<00:00, 1156.27it/s]\n",
      "Batches: 100%|██████████| 200/200 [00:00<00:00, 896.70it/s]\n",
      "Batches: 100%|██████████| 200/200 [00:00<00:00, 789.44it/s]\n",
      "Batches: 100%|██████████| 200/200 [00:00<00:00, 665.84it/s]\n",
      "Batches: 100%|██████████| 200/200 [00:00<00:00, 1046.52it/s]\n",
      "Batches: 100%|██████████| 200/200 [00:00<00:00, 1099.95it/s]\n",
      "Batches: 100%|██████████| 200/200 [00:00<00:00, 1161.79it/s]\n",
      "Batches: 100%|██████████| 200/200 [00:00<00:00, 1215.12it/s]\n",
      "Batches: 100%|██████████| 200/200 [00:00<00:00, 1291.83it/s]\n",
      "Batches: 100%|██████████| 200/200 [00:00<00:00, 1367.08it/s]\n",
      "Batches: 100%|██████████| 200/200 [00:00<00:00, 1378.20it/s]\n",
      "Batches: 100%|██████████| 200/200 [00:00<00:00, 1694.59it/s]\n",
      "Batches: 100%|██████████| 200/200 [00:00<00:00, 1667.05it/s]\n",
      "Batches: 100%|██████████| 200/200 [00:00<00:00, 1368.80it/s]\n",
      "Batches: 100%|██████████| 200/200 [00:00<00:00, 1436.06it/s]\n",
      "Batches: 100%|██████████| 200/200 [00:00<00:00, 843.90it/s] \n",
      "Batches: 100%|██████████| 200/200 [00:00<00:00, 961.20it/s] \n",
      "Batches: 100%|██████████| 200/200 [00:00<00:00, 1011.42it/s]\n",
      "Batches: 100%|██████████| 200/200 [00:00<00:00, 1256.79it/s]\n",
      "Batches: 100%|██████████| 200/200 [00:00<00:00, 1092.43it/s]\n",
      "Batches: 100%|██████████| 200/200 [00:00<00:00, 1282.47it/s]\n",
      "Batches: 100%|██████████| 200/200 [00:00<00:00, 1670.12it/s]\n",
      "Batches: 100%|██████████| 200/200 [00:00<00:00, 1705.41it/s]\n",
      "Batches: 100%|██████████| 200/200 [00:00<00:00, 1828.80it/s]\n",
      "Batches: 100%|██████████| 200/200 [00:00<00:00, 2119.28it/s]\n",
      "Batches: 100%|██████████| 200/200 [00:00<00:00, 1874.16it/s]\n",
      "Batches: 100%|██████████| 200/200 [00:00<00:00, 2179.60it/s]\n",
      "Batches: 100%|██████████| 200/200 [00:00<00:00, 1586.75it/s]\n",
      "Batches: 100%|██████████| 200/200 [00:00<00:00, 1528.63it/s]\n",
      "Batches: 100%|██████████| 200/200 [00:00<00:00, 2093.79it/s]\n",
      "Batches: 100%|██████████| 200/200 [00:00<00:00, 2067.80it/s]\n",
      "Batches: 100%|██████████| 200/200 [00:00<00:00, 1663.46it/s]\n",
      "Batches: 100%|██████████| 200/200 [00:00<00:00, 1571.65it/s]\n",
      "Batches: 100%|██████████| 200/200 [00:00<00:00, 1628.93it/s]\n",
      "Batches: 100%|██████████| 200/200 [00:00<00:00, 1390.05it/s]\n",
      "Batches: 100%|██████████| 200/200 [00:00<00:00, 1217.37it/s]\n",
      "Batches: 100%|██████████| 200/200 [00:00<00:00, 1354.79it/s]\n",
      "Batches: 100%|██████████| 200/200 [00:00<00:00, 1613.26it/s]\n",
      "Batches: 100%|██████████| 200/200 [00:00<00:00, 2159.18it/s]\n",
      "Batches: 100%|██████████| 200/200 [00:00<00:00, 2098.85it/s]\n",
      "Batches: 100%|██████████| 200/200 [00:00<00:00, 1817.38it/s]\n",
      "Batches: 100%|██████████| 200/200 [00:00<00:00, 1436.74it/s]\n",
      "Batches: 100%|██████████| 200/200 [00:00<00:00, 1597.73it/s]\n",
      "Batches: 100%|██████████| 200/200 [00:00<00:00, 1300.07it/s]\n",
      "Batches: 100%|██████████| 200/200 [00:00<00:00, 1430.56it/s]\n",
      "Batches: 100%|██████████| 200/200 [00:00<00:00, 2102.01it/s]\n",
      "Batches: 100%|██████████| 200/200 [00:00<00:00, 2356.50it/s]\n",
      "Batches: 100%|██████████| 200/200 [00:00<00:00, 1873.05it/s]\n",
      "Batches: 100%|██████████| 200/200 [00:00<00:00, 2068.78it/s]\n",
      "Batches: 100%|██████████| 200/200 [00:00<00:00, 1925.05it/s]\n",
      "Batches: 100%|██████████| 200/200 [00:00<00:00, 1938.55it/s]\n",
      "Batches: 100%|██████████| 200/200 [00:00<00:00, 1654.60it/s]\n",
      "Batches: 100%|██████████| 200/200 [00:00<00:00, 1615.68it/s]\n",
      "Batches: 100%|██████████| 200/200 [00:00<00:00, 1930.99it/s]\n",
      "Batches: 100%|██████████| 200/200 [00:00<00:00, 1877.24it/s]\n",
      "Batches: 100%|██████████| 200/200 [00:00<00:00, 2356.20it/s]\n",
      "Batches: 100%|██████████| 200/200 [00:00<00:00, 1906.68it/s]\n",
      "Batches: 100%|██████████| 200/200 [00:00<00:00, 1869.72it/s]\n",
      "Batches: 100%|██████████| 200/200 [00:00<00:00, 2146.99it/s]\n",
      "Batches: 100%|██████████| 200/200 [00:00<00:00, 2030.81it/s]\n",
      "Batches: 100%|██████████| 200/200 [00:00<00:00, 1800.00it/s]\n",
      "Batches: 100%|██████████| 200/200 [00:00<00:00, 1917.52it/s]\n",
      "Batches: 100%|██████████| 200/200 [00:00<00:00, 2107.61it/s]\n",
      "Batches: 100%|██████████| 200/200 [00:00<00:00, 1991.26it/s]\n",
      "Batches: 100%|██████████| 200/200 [00:00<00:00, 1458.47it/s]\n",
      "Batches: 100%|██████████| 200/200 [00:00<00:00, 2335.36it/s]\n",
      "Batches: 100%|██████████| 200/200 [00:00<00:00, 2192.87it/s]\n",
      "Batches: 100%|██████████| 200/200 [00:00<00:00, 2197.17it/s]\n",
      "Batches: 100%|██████████| 200/200 [00:00<00:00, 2097.81it/s]\n",
      "Batches: 100%|██████████| 200/200 [00:00<00:00, 2324.04it/s]\n",
      "Batches: 100%|██████████| 200/200 [00:00<00:00, 1849.55it/s]\n",
      "Batches: 100%|██████████| 200/200 [00:00<00:00, 1763.08it/s]\n",
      "Batches: 100%|██████████| 200/200 [00:00<00:00, 1787.26it/s]\n",
      "Batches: 100%|██████████| 200/200 [00:00<00:00, 1782.97it/s]\n",
      "Batches: 100%|██████████| 200/200 [00:00<00:00, 1180.21it/s]\n",
      "Batches: 100%|██████████| 200/200 [00:00<00:00, 1746.90it/s]\n",
      "Batches: 100%|██████████| 200/200 [00:00<00:00, 1363.76it/s]\n",
      "Batches: 100%|██████████| 200/200 [00:00<00:00, 1122.46it/s]\n",
      "Batches: 100%|██████████| 200/200 [00:00<00:00, 1566.26it/s]\n",
      "Batches: 100%|██████████| 200/200 [00:00<00:00, 1576.52it/s]\n",
      "Batches: 100%|██████████| 200/200 [00:00<00:00, 1763.79it/s]\n",
      "Batches: 100%|██████████| 200/200 [00:00<00:00, 1878.10it/s]\n",
      "Batches: 100%|██████████| 200/200 [00:00<00:00, 2018.53it/s]\n",
      "Batches: 100%|██████████| 200/200 [00:00<00:00, 1894.38it/s]\n",
      "Batches: 100%|██████████| 200/200 [00:00<00:00, 2029.08it/s]\n",
      "Batches: 100%|██████████| 200/200 [00:00<00:00, 1576.75it/s]\n",
      "Batches: 100%|██████████| 200/200 [00:00<00:00, 1845.24it/s]\n",
      "Epochs: 100%|██████████| 100/100 [00:13<00:00,  7.54it/s]\n"
     ]
    }
   ],
   "source": [
    "train_simple_network(model_4,loss_fn,training_loader,epochs=100)"
   ]
  },
  {
   "cell_type": "code",
   "execution_count": 66,
   "metadata": {},
   "outputs": [],
   "source": [
    "model_4.to('cpu')\n",
    "model_4.eval()\n",
    "with torch.inference_mode():\n",
    "    y_pred_m4 = model_4(torch.tensor(X,dtype=torch.float32).reshape(-1,1)).cpu().numpy()"
   ]
  },
  {
   "cell_type": "code",
   "execution_count": 67,
   "metadata": {},
   "outputs": [
    {
     "data": {
      "text/plain": [
       "<Axes: >"
      ]
     },
     "execution_count": 67,
     "metadata": {},
     "output_type": "execute_result"
    },
    {
     "data": {
      "image/png": "[encoded data removed]",
      "text/plain": [
       "<Figure size 640x480 with 1 Axes>"
      ]
     },
     "metadata": {},
     "output_type": "display_data"
    }
   ],
   "source": [
    "sns.scatterplot(x=X,y=y,color=\"blue\",label=\"Data\")\n",
    "sns.lineplot(x=X,y=y_pred_m4.ravel(),color=\"red\",label=\"stacked linear layers\")"
   ]
  },
  {
   "cell_type": "code",
   "execution_count": null,
   "metadata": {},
   "outputs": [],
   "source": []
  }
 ],
 "metadata": {
  "kernelspec": {
   "display_name": "Python 3",
   "language": "python",
   "name": "python3"
  },
  "language_info": {
   "codemirror_mode": {
    "name": "ipython",
    "version": 3
   },
   "file_extension": ".py",
   "mimetype": "text/x-python",
   "name": "python",
   "nbconvert_exporter": "python",
   "pygments_lexer": "ipython3",
   "version": "3.10.4"
  },
  "orig_nbformat": 4,
  "polyglot_notebook": {
   "kernelInfo": {
    "defaultKernelName": "csharp",
    "items": [
     {
      "aliases": [],
      "name": "csharp"
     }
    ]
   }
  }
 },
 "nbformat": 4,
 "nbformat_minor": 2
}
