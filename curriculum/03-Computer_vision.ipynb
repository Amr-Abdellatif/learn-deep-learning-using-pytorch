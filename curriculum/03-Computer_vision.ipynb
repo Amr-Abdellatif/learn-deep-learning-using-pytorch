{
 "cells": [
  {
   "attachments": {},
   "cell_type": "markdown",
   "metadata": {},
   "source": [
    "# Pytorch computer vision\n",
    "\n",
    "#### inside pytorch there's a base library for using computer vision which is Torch vision\n",
    "\n",
    "```\n",
    "Torch Vision\n",
    "```\n",
    "\n",
    "#### Docs : https://pytorch.org/vision/stable/index.html\n",
    "\n",
    "you can check for DOCS to check other things torch can work with 'images\\cirrculum images\\03-cv-01.JPG'\n",
    "\n",
    "* `torchvision.datasets` to use datasets related to computer vision\n",
    "* `torchvision.models` to use pretrained models related to computer vision\n",
    "* `torchvision.transforms` functions to manipulate vision datasets\n",
    "\n",
    "what if we have a custom dataset ?\n",
    "* `torch.utils.data.Dataset` base class for dataset utils\n",
    "* `torch.utils.data.DataLoader` create a python iterable over a dataset"
   ]
  },
  {
   "cell_type": "code",
   "execution_count": 3,
   "metadata": {},
   "outputs": [],
   "source": [
    "#let's start\n",
    "\n",
    "# import libraries\n",
    "import torch\n",
    "from torch import nn\n",
    "import torchvision\n",
    "from torchvision import datasets\n",
    "from torchvision import transforms\n",
    "from torchvision.transforms import ToTensor\n",
    "\n"
   ]
  },
  {
   "cell_type": "code",
   "execution_count": null,
   "metadata": {},
   "outputs": [],
   "source": []
  }
 ],
 "metadata": {
  "kernelspec": {
   "display_name": "Python 3",
   "language": "python",
   "name": "python3"
  },
  "language_info": {
   "codemirror_mode": {
    "name": "ipython",
    "version": 3
   },
   "file_extension": ".py",
   "mimetype": "text/x-python",
   "name": "python",
   "nbconvert_exporter": "python",
   "pygments_lexer": "ipython3",
   "version": "3.10.4"
  },
  "orig_nbformat": 4
 },
 "nbformat": 4,
 "nbformat_minor": 2
}
